{
 "cells": [
  {
   "cell_type": "markdown",
   "metadata": {},
   "source": [
    "\"\"\"\n",
    "Chapter 3\n",
    "\"\"\"\n",
    "\n",
    "Q1: Given a directed graph, design an algorithm to find out whether there is a\n",
    "route between two nodes.\n"
   ]
  },
  {
   "cell_type": "code",
   "execution_count": null,
   "metadata": {},
   "outputs": [],
   "source": [
    "class Vertex:\n",
    "    \n",
    "    def __init__(self, vertex_name):\n",
    "        \"\"\"initializes a vertex using vertex_name, add to it a dictionary of adjacent vertex and weights\"\"\"\n",
    "        self.vertex_name = vertex_name\n",
    "        self.adj = {}\n",
    "\n",
    "\n",
    "    def add_adj(self, adj_vertex_name, weight):\n",
    "        \"\"\"function to add adjacent vertex and weight\"\"\"\n",
    "        self.adj[adj_vertex_name] = weight\n",
    "    \n",
    "    def get_all_adj(self):\n",
    "        \"\"\"function to quickly return names of all adjacent vertices\"\"\"\n",
    "        return self.adj.keys()\n",
    "\n",
    "class Graph: \n",
    "\n",
    "    def __init__(self):\n",
    "        \"\"\"initializes a graph with a set of vertices\"\"\"\n",
    "        self.vertices = {}\n",
    "    \n",
    "    def add_vertex(self, new_vertex_list):\n",
    "        \"\"\"Takes a list of new vertices, add to the graph\"\"\"\n",
    "        for vertex_name in new_vertex_list:\n",
    "            self.vertices[vertex_name] = Vertex(vertex_name)\n",
    "\n",
    "    def add_edge(self, from_name, to_name, weight = 0):\n",
    "        \"\"\"define directed relationship between vertices\"\"\"\n",
    "        if not self.vertices[from_name] or not self.vertices[to_name]:\n",
    "            return \"To or From vertex does not exist\"\n",
    "        \n",
    "        self.vertices[from_name].add_adj(self.vertices[to_name], weight)\n",
    "\n",
    "    def check_route_exists(self, start_vertex_name, end_vertex_name):\n",
    "\n",
    "        if start_vertex_name not in self.vertices.keys() or end_vertex_name not in self.vertices.keys() :\n",
    "            return 'Start or End node does not exist'\n",
    "    \n",
    "        for neighbor_vertex in self.vertices[start_vertex_name].adj:\n",
    "            if neighbor_vertex == self.vertices[end_vertex_name]:\n",
    "                return 'Path Exists'\n",
    "            \n",
    "            return self.check_route_exists(neighbor_vertex.vertex_name, end_vertex_name)\n",
    "        \n",
    "        return 'Path Does Not Exists'"
   ]
  },
  {
   "cell_type": "code",
   "execution_count": 2,
   "metadata": {},
   "outputs": [],
   "source": [
    "# test case\n",
    "\n",
    "digraph = Graph()\n",
    "digraph.add_vertex(['a', 'b', 'c', 'd', 'e'])\n",
    "digraph.add_edge('a','b', 12)\n",
    "digraph.add_edge('b','c', 15)\n",
    "digraph.add_edge('c','e', 20)\n",
    "digraph.add_edge('a','e', 2)"
   ]
  },
  {
   "cell_type": "code",
   "execution_count": 3,
   "metadata": {},
   "outputs": [
    {
     "data": {
      "text/plain": [
       "'Path Exists'"
      ]
     },
     "execution_count": 3,
     "metadata": {},
     "output_type": "execute_result"
    }
   ],
   "source": [
    "digraph.check_route_exists('b', 'c')"
   ]
  },
  {
   "cell_type": "markdown",
   "metadata": {},
   "source": [
    "Q2: Given a sorted (increasing order) array with unique integer elements, write an algorithm\n",
    "to create a binary SEARCH tree with minimal height."
   ]
  },
  {
   "cell_type": "code",
   "execution_count": 25,
   "metadata": {},
   "outputs": [],
   "source": [
    "class Node:\n",
    "\n",
    "    def __init__(self,value):\n",
    "        self.value = value \n",
    "        self.left = None\n",
    "        self.right = None \n",
    "    \n",
    "def build_tree(sorted_array):\n",
    "\n",
    "    if len(sorted_array) == 0:\n",
    "         return None\n",
    "\n",
    "    mid_index = len(sorted_array)//2\n",
    "    first_half_array = sorted_array[:mid_index]\n",
    "    second_half_array = sorted_array[mid_index+1:]\n",
    "\n",
    "    root = Node(sorted_array[mid_index])\n",
    "    root.left = build_tree(first_half_array)\n",
    "    root.right = build_tree(second_half_array)\n",
    "\n",
    "    return root\n",
    "    \n",
    "def print_tree_bfs(node):\n",
    "\n",
    "    queue = []\n",
    "    queue.append(node)\n",
    "\n",
    "    while queue:\n",
    "        processed_node = queue.pop(0)\n",
    "        print(processed_node.value)\n",
    "        if processed_node.left:\n",
    "            queue.append(processed_node.left)\n",
    "        if processed_node.right:\n",
    "            queue.append(processed_node.right)"
   ]
  },
  {
   "cell_type": "code",
   "execution_count": 32,
   "metadata": {},
   "outputs": [
    {
     "name": "stdout",
     "output_type": "stream",
     "text": [
      "[0, 1, 2, 3, 4, 5, 6, 7, 8, 9, 10, 11, 12, 13, 14, 15, 16, 17]\n",
      "9\n",
      "4\n",
      "14\n",
      "2\n",
      "7\n",
      "12\n",
      "16\n",
      "1\n",
      "3\n",
      "6\n",
      "8\n",
      "11\n",
      "13\n",
      "15\n",
      "17\n",
      "0\n",
      "5\n",
      "10\n"
     ]
    }
   ],
   "source": [
    "# test cases\n",
    "\n",
    "N = 18\n",
    "array = [*range(0,N)]\n",
    "test_tree = build_tree(array)\n",
    "print(array)\n",
    "print_tree_bfs(test_tree)\n"
   ]
  },
  {
   "cell_type": "markdown",
   "metadata": {},
   "source": [
    "Q3: Given a binary tree, design an algorithm which creates a linked list of all the nodes\n",
    "at each depth (e.g., if you have a tree with depth D, you'll have D linked lists)."
   ]
  },
  {
   "cell_type": "markdown",
   "metadata": {},
   "source": [
    "Q4: Implement a function to check if a binary tree is balanced. For the purposes of this question, a balanced tree is defined to be a tree such that the heights of the two subtrees of any node never differ by more than one"
   ]
  },
  {
   "cell_type": "code",
   "execution_count": 31,
   "metadata": {},
   "outputs": [],
   "source": [
    "def countHeight(root):\n",
    "\n",
    "    if not root:\n",
    "        return 0\n",
    "    \n",
    "    else: \n",
    "        lHeight = countHeight(root.left)\n",
    "        rHeight = countHeight(root.right)\n",
    "    \n",
    "    if (lHeight > rHeight):\n",
    "        return lHeight + 1\n",
    "    else:\n",
    "        return rHeight + 1\n",
    "    \n",
    "def checkImbaTree(root):\n",
    "\n",
    "    if not root:\n",
    "        return 0\n",
    "    \n",
    "    if root.left or root.right:\n",
    "        lChildHeight = countHeight(root.left)\n",
    "        rChildHeight = countHeight(root.right)\n",
    "        \n",
    "        if abs(lChildHeight - rChildHeight) > 1:\n",
    "            return False\n",
    "        \n",
    "        checkImbaTree(root.left)\n",
    "        checkImbaTree(root.right)\n",
    "\n",
    "    return True  "
   ]
  },
  {
   "cell_type": "code",
   "execution_count": 133,
   "metadata": {},
   "outputs": [
    {
     "name": "stdout",
     "output_type": "stream",
     "text": [
      "root is balance?  False\n",
      "root2 is balance?  True\n"
     ]
    }
   ],
   "source": [
    "# test\n",
    "\n",
    "class Node:\n",
    "\n",
    "    def __init__(self, value):\n",
    "        self.value = value\n",
    "        self.left = None\n",
    "        self.right = None \n",
    "\n",
    "root = Node(15)\n",
    "root.left = Node(16)\n",
    "root.right = Node(18)\n",
    "root.left.left = Node(17)\n",
    "root.left.left.left = Node(8)\n",
    "\n",
    "print('root is balance? ', checkImbaTree(root))\n",
    "\n",
    "root2 = Node(15)\n",
    "root2.left = Node(16)\n",
    "root2.right = Node(18)\n",
    "root2.left.left = Node(17)\n",
    "root2.left.right = Node(8)\n",
    "\n",
    "print('root2 is balance? ', checkImbaTree(root2))"
   ]
  },
  {
   "cell_type": "markdown",
   "metadata": {},
   "source": [
    "Q5: Validate BST - implement a function to check if a binary tree is a binary search tree"
   ]
  },
  {
   "cell_type": "code",
   "execution_count": 155,
   "metadata": {},
   "outputs": [],
   "source": [
    "def findMin(root, abs_val = None):\n",
    "    \"\"\"finds the minimum value of the tree\"\"\"\n",
    "    if not root:\n",
    "        return float('inf')\n",
    "    \n",
    "    else:\n",
    "        abs_val = root.value\n",
    "    \n",
    "        if root.left: \n",
    "            tmp_val = findMin(root.left, abs_val)\n",
    "            abs_val = min(abs_val, tmp_val)\n",
    "            \n",
    "\n",
    "        elif root.right:\n",
    "            \n",
    "            tmp_val = findMin(root.right, abs_val)\n",
    "            abs_val = min(abs_val, tmp_val)\n",
    "\n",
    "        return abs_val\n",
    "\n",
    "def findMax(root):\n",
    "    \"\"\"finds the maximum value of the tree\"\"\"\n",
    "    if not root:\n",
    "        return float(-'inf')\n",
    "    \n",
    "    else:\n",
    "        abs_val = root.value\n",
    "\n",
    "        if root.left: \n",
    "            tmp_val = findMax(root.left)\n",
    "            abs_val = max(abs_val,tmp_val)\n",
    "\n",
    "        if root.right:\n",
    "            tmp_val = findMax(root.right)\n",
    "            abs_val = max(abs_val,tmp_val)\n",
    "\n",
    "        return abs_val"
   ]
  },
  {
   "cell_type": "code",
   "execution_count": 171,
   "metadata": {},
   "outputs": [],
   "source": [
    "def BST(root):\n",
    "    \"\"\"determine if a tree is BST by checking if the maximum value of left child is less than root\n",
    "    and min value of all right child is greater than root\"\"\"\n",
    "\n",
    "    if not root:\n",
    "        return False\n",
    "\n",
    "    if root.left:\n",
    "        if findMax(root.left) >= root.value:\n",
    "            return False\n",
    "    if root.right:\n",
    "        if findMin(root.right) <= root.value:\n",
    "            return False \n",
    "\n",
    "    return True"
   ]
  },
  {
   "cell_type": "code",
   "execution_count": 172,
   "metadata": {},
   "outputs": [
    {
     "name": "stdout",
     "output_type": "stream",
     "text": [
      "root is BST?  True\n",
      "root2 is BST?  False\n"
     ]
    }
   ],
   "source": [
    "# test\n",
    "\n",
    "class Node:\n",
    "\n",
    "    def __init__(self, value):\n",
    "        self.value = value\n",
    "        self.left = None\n",
    "        self.right = None \n",
    "\n",
    "root = Node(18)\n",
    "root.left = Node(17)\n",
    "root.right = Node(20)\n",
    "root.left.left = Node(16)\n",
    "root.left.left = Node(15)\n",
    "\n",
    "print('root is BST? ', BST(root))\n",
    "\n",
    "root = Node(18)\n",
    "root.left = Node(17)\n",
    "root.right = Node(20)\n",
    "root.left.left = Node(16)\n",
    "root.right.left = Node(14)\n",
    "print('root2 is BST? ', BST(root2))"
   ]
  },
  {
   "cell_type": "markdown",
   "metadata": {},
   "source": [
    "Q6: Write an algorithm to find the 'next' node (i.e, in-order successor) of given node in a binary search tree. you may assume that each node has a link to its parent."
   ]
  },
  {
   "cell_type": "code",
   "execution_count": 166,
   "metadata": {},
   "outputs": [
    {
     "data": {
      "text/plain": [
       "\"\\n# pseudo code:\\n\\n# 1. if node has right node, go right, keep going left\\n# 2. if node doesn't have a right node, go up to parent\\n    # if node is to the right of parent, keep going up\\n    # if node is to the left of parent, print node\\n\""
      ]
     },
     "execution_count": 166,
     "metadata": {},
     "output_type": "execute_result"
    }
   ],
   "source": [
    "\"\"\"\n",
    "# pseudo code:\n",
    "\n",
    "# 1. if node has right node, go right, keep going left\n",
    "# 2. if node doesn't have a right node\n",
    "    # if node index is at end of array (available in array implementation), no next node\n",
    "    # if node is to the right of parent, keep going up, repeat from step 1 (recursion)\n",
    "    # if node is to the left of parent, print node\n",
    "\"\"\""
   ]
  },
  {
   "cell_type": "code",
   "execution_count": 155,
   "metadata": {},
   "outputs": [],
   "source": [
    "class Tree:\n",
    "\n",
    "    def __init__(self, treesize):\n",
    "        self.array = [None] * treesize\n",
    "    \n",
    "    def setNode(self, index, value):\n",
    "        self.array[index] = value\n",
    "\n",
    "    def addLeftChild(self, index, value):\n",
    "        if not self.array[index]:\n",
    "            return 'No parent node. Set parent node first'\n",
    "        else:\n",
    "            self.array[index * 2 + 1] = value\n",
    "    \n",
    "    def addRightChild(self, index, value):\n",
    "        if not self.array[index]:\n",
    "            return 'No parent node. Set parent node first'\n",
    "        else:\n",
    "            self.array[index * 2 + 2] = value \n",
    "\n",
    "    def printTree(self):\n",
    "        return self.array\n",
    "\n",
    "    def hasParent(self, index):\n",
    "        if (index-1)//2 >=0 and (index-1)//2 is not None:\n",
    "            return True\n",
    "        return False\n",
    "    \n",
    "    def ParentIndex(self, index):\n",
    "        if self.hasParent(index):\n",
    "            return (index-1)//2 \n",
    "        \n",
    "    def hasRightChild(self, index):\n",
    "        if index*2+1 < len(self.array):\n",
    "            if self.array[index*2+1] is not None:\n",
    "                return True \n",
    "        return False\n",
    "\n",
    "    def rightChildIndex(self, index):\n",
    "        if self.hasRightChild(index):\n",
    "            return index*2 +2\n",
    "        return None \n",
    "    \n",
    "    def hasLeftChild(self, index):\n",
    "        if index*2+1 < len(self.array):\n",
    "            if self.array[index*2+1] is not None:\n",
    "                return True \n",
    "        return False\n",
    "\n",
    "    def leftChildIndex(self, index):\n",
    "        if self.hasLeftChild(index):\n",
    "            return index*2+1\n",
    "        return None\n",
    "\n",
    "    def nextNode(self, index, visited={}):\n",
    "\n",
    "        if not self.hasParent(index):\n",
    "            return print(self.array[index])\n",
    "        \n",
    "        if (self.rightChildIndex(index) is not None) and (self.rightChildIndex(index) not in visited.keys()):\n",
    "            index = self.rightChildIndex(index)\n",
    "            while self.hasLeftChild(index):\n",
    "                index = self.LeftChildIndex(index)\n",
    "            return print(self.array[index])\n",
    "\n",
    "        else:     \n",
    "            visited[index] = True\n",
    "\n",
    "            if index == len(self.array)-1:\n",
    "                return print(None)\n",
    "            \n",
    "            if self.array[index] >= self.array[(index -1) // 2]:\n",
    "                index = (index-1)//2\n",
    "                return self.nextNode(index, visited)\n",
    "            else:\n",
    "                return print(self.array[(index-1)//2])\n",
    "\n",
    "            "
   ]
  },
  {
   "cell_type": "code",
   "execution_count": 156,
   "metadata": {},
   "outputs": [
    {
     "data": {
      "text/plain": [
       "[10, 8, 15, 7, 9, 13, 18]"
      ]
     },
     "execution_count": 156,
     "metadata": {},
     "output_type": "execute_result"
    }
   ],
   "source": [
    "# test case\n",
    "#       10\n",
    "#     /   \\\n",
    "#    8    15\n",
    "#   /\\    / \\\n",
    "#  7  9  13 18\n",
    "\n",
    "test = Tree(7)\n",
    "test.setNode(0,10)\n",
    "test.addLeftChild(0,8)\n",
    "test.addRightChild(0,15)\n",
    "test.addLeftChild(test.leftChildIndex(0), 7)\n",
    "test.addRightChild(test.leftChildIndex(0), 9)\n",
    "test.addLeftChild(test.rightChildIndex(0), 13)\n",
    "test.addRightChild(test.rightChildIndex(0), 18)\n",
    "test.printTree()\n"
   ]
  },
  {
   "cell_type": "code",
   "execution_count": 165,
   "metadata": {},
   "outputs": [
    {
     "name": "stdout",
     "output_type": "stream",
     "text": [
      "18\n"
     ]
    }
   ],
   "source": [
    "# test case\n",
    "#       10\n",
    "#     /   \\\n",
    "#    8    15\n",
    "#   /\\    / \\\n",
    "#  7  9  13 18\n",
    "\n",
    "value = 15\n",
    "array = test.printTree()\n",
    "for i, j in enumerate(array):\n",
    "    if j == value:\n",
    "        index = i \n",
    "test.nextNode(index)"
   ]
  }
 ],
 "metadata": {
  "kernelspec": {
   "display_name": "Python 3",
   "language": "python",
   "name": "python3"
  },
  "language_info": {
   "codemirror_mode": {
    "name": "ipython",
    "version": 3
   },
   "file_extension": ".py",
   "mimetype": "text/x-python",
   "name": "python",
   "nbconvert_exporter": "python",
   "pygments_lexer": "ipython3",
   "version": "3.12.0"
  }
 },
 "nbformat": 4,
 "nbformat_minor": 2
}
