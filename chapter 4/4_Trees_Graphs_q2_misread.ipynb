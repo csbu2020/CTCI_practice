{
 "cells": [
  {
   "cell_type": "code",
   "execution_count": 1,
   "metadata": {},
   "outputs": [],
   "source": [
    "\"\"\"Given a sorted (increasing order) array with unique integer elements, write an algorithm\n",
    "to create a BINARY TREE with minimal height.\"\"\"\n",
    "\n",
    "class Node:\n",
    "\n",
    "    def __init__(self,value):\n",
    "        self.value = value \n",
    "        self.left = None\n",
    "        self.right = None \n",
    "\n",
    "class bin_tree:\n",
    "\n",
    "    def __init__(self, value):\n",
    "        self.root = Node(value)\n",
    "    \n",
    "    def build_tree(self, current_node, sorted_array, bfs_queue = []):\n",
    "\n",
    "        print('current root node value: ', current_node.value)\n",
    "        if len(sorted_array) == 0:\n",
    "            return 'Done'\n",
    "\n",
    "        for index, items in enumerate(sorted_array):\n",
    "\n",
    "            if not current_node.left:\n",
    "                current_node.left = Node(sorted_array[index])\n",
    "                print('left node added: ', sorted_array[index])\n",
    "            \n",
    "            else:\n",
    "                current_node.right = Node(sorted_array[index])\n",
    "                print('right node added: ', sorted_array[index])\n",
    "                bfs_queue.append(current_node.left)\n",
    "                bfs_queue.append(current_node.right)\n",
    "                current_node = bfs_queue.pop(0)\n",
    "\n",
    "            return self.build_tree(current_node, sorted_array[index+1:], bfs_queue)"
   ]
  },
  {
   "cell_type": "code",
   "execution_count": 2,
   "metadata": {},
   "outputs": [
    {
     "name": "stdout",
     "output_type": "stream",
     "text": [
      "[0, 1, 2, 3, 4, 5, 6, 7, 8, 9, 10, 11, 12, 13, 14, 15, 16, 17]\n",
      "current root node value:  0\n",
      "left node added:  1\n",
      "current root node value:  0\n",
      "right node added:  2\n",
      "current root node value:  1\n",
      "left node added:  3\n",
      "current root node value:  1\n",
      "right node added:  4\n",
      "current root node value:  2\n",
      "left node added:  5\n",
      "current root node value:  2\n",
      "right node added:  6\n",
      "current root node value:  3\n",
      "left node added:  7\n",
      "current root node value:  3\n",
      "right node added:  8\n",
      "current root node value:  4\n",
      "left node added:  9\n",
      "current root node value:  4\n",
      "right node added:  10\n",
      "current root node value:  5\n",
      "left node added:  11\n",
      "current root node value:  5\n",
      "right node added:  12\n",
      "current root node value:  6\n",
      "left node added:  13\n",
      "current root node value:  6\n",
      "right node added:  14\n",
      "current root node value:  7\n",
      "left node added:  15\n",
      "current root node value:  7\n",
      "right node added:  16\n",
      "current root node value:  8\n",
      "left node added:  17\n",
      "current root node value:  8\n"
     ]
    },
    {
     "data": {
      "text/plain": [
       "'Done'"
      ]
     },
     "execution_count": 2,
     "metadata": {},
     "output_type": "execute_result"
    }
   ],
   "source": [
    "# test cases\n",
    "\n",
    "N = 18\n",
    "array = [*range(0,N)]\n",
    "print(array)\n",
    "test_tree = bin_tree(array[0])\n",
    "test_tree.build_tree(test_tree.root, array[1:], bfs_queue = [])"
   ]
  },
  {
   "cell_type": "code",
   "execution_count": null,
   "metadata": {},
   "outputs": [],
   "source": []
  }
 ],
 "metadata": {
  "kernelspec": {
   "display_name": "Python 3",
   "language": "python",
   "name": "python3"
  },
  "language_info": {
   "codemirror_mode": {
    "name": "ipython",
    "version": 3
   },
   "file_extension": ".py",
   "mimetype": "text/x-python",
   "name": "python",
   "nbconvert_exporter": "python",
   "pygments_lexer": "ipython3",
   "version": "3.12.0"
  }
 },
 "nbformat": 4,
 "nbformat_minor": 2
}
